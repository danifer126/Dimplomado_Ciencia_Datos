{
  "cells": [
    {
      "cell_type": "markdown",
      "metadata": {
        "id": "view-in-github",
        "colab_type": "text"
      },
      "source": [
        "<a href=\"https://colab.research.google.com/github/danifer126/Dimplomado_Ciencia_Datos/blob/main/Tarea_1.ipynb\" target=\"_parent\"><img src=\"https://colab.research.google.com/assets/colab-badge.svg\" alt=\"Open In Colab\"/></a>"
      ]
    },
    {
      "cell_type": "markdown",
      "id": "a187c930",
      "metadata": {
        "id": "a187c930"
      },
      "source": [
        "![phyton.png](data:image/png;base64,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 )"
      ]
    },
    {
      "cell_type": "markdown",
      "id": "28ac08f9",
      "metadata": {
        "id": "28ac08f9"
      },
      "source": [
        "# <center> <h1> <font color='#FF9933'>    REGRESIÓN LOGÍSTICA      </font> </h1> </center>"
      ]
    },
    {
      "cell_type": "markdown",
      "id": "281b340b",
      "metadata": {
        "id": "281b340b"
      },
      "source": [
        "Autor: \n",
        "\n",
        "Daniel Fernando Díaz Pita - dafdiazpi@unal.edu.co"
      ]
    },
    {
      "cell_type": "markdown",
      "id": "c7c12601",
      "metadata": {
        "id": "c7c12601"
      },
      "source": [
        "<img style=\"float: left;\" src=\"foto.jpeg\" width=\"8%\">\n",
        "<center>\n",
        "<font color='#999999'> \n",
        "Estudiante de estadística en la Universidad Nacional de Colombia. Con experiencia en el manejo de bases de datos, excel intermedio y manejo del software R. Mis interes están relacionados con la inteligencia artificial y el aprendizaje automatico.\n",
        "</font>\n",
        "    </center>"
      ]
    },
    {
      "cell_type": "markdown",
      "id": "099f3bf3",
      "metadata": {
        "id": "099f3bf3"
      },
      "source": [
        "La regresión logística es una de las diferentes técnicas de análisis de regresión que usa la ciencia de datos, su principal uso es predecir la presencia o ausencia de una característica o resultado según los valores de un conjunto de datos. Por propiedades como su simplicidad y velocidad ganó su acogida en el campo de la Inteligencia artificial y el aprendizaje automatico."
      ]
    },
    {
      "cell_type": "markdown",
      "id": "e88f1483",
      "metadata": {
        "id": "e88f1483"
      },
      "source": [
        "## ¿Qué es la regresión logística?"
      ]
    },
    {
      "cell_type": "markdown",
      "id": "f6f1d2fc",
      "metadata": {
        "id": "f6f1d2fc"
      },
      "source": [
        "La regresión logística es análoga a la regresión lineal multiple, con la excepción de que el resultado es binario. Esta requiere emplear transformaciónes para convertir el problema en uno en el que se pueda ajustar un modelo lineal. Es popular por la rapidez en la que se emplean los calculos y es util en la clasificación de nuevos datos.\n",
        "\n",
        "La regresión logística es una técnica de aprendizaje supervisado que se utiliza para predecir la probabilidad de ocurrencia de un evento binario, es decir, clasificación binaria. Se utiliza cuando la variable dependiente es categórica y solo puede tomar dos valores, como \"Ausencia\" o \"Presencia\" de una caracateristica de interes. La regresión logística modelr la probabilidad de la variable dependiente dada una o más variables independientes. Esta produce una salida entre 0 y 1 que se puede interpretar como la probabilidad de ocurrencia del evento positivo. Esta regresión se utiliza en muchas aplicaciones, como la detección de fraude, la medicina y la publicidad en línea."
      ]
    },
    {
      "cell_type": "markdown",
      "id": "dade1c6c",
      "metadata": {
        "id": "dade1c6c"
      },
      "source": [
        "## ¿Para que sirve?"
      ]
    },
    {
      "cell_type": "markdown",
      "id": "24985a1e",
      "metadata": {
        "id": "24985a1e"
      },
      "source": [
        "La regresión logística se utiliza principalmente para la clasificación binaria, es decir, para predecir si un evento ocurrirá o no. Se utiliza cuando la variable dependiente es categórica y solo puede tomar dos valores. Los primeros usos de este modelo se relacionan con los estudios biomedicos, relacionados con sujetos que presentan una condición de cancer de pulmon, así como en usos mas recientes involucran el estudio de puntaje crediticio, donde considerando condiciones como ingresos, pago de deudas en buen tiempo, ocupación, hipotecas, obligaciones crediticas y otros aspectos historicos de las aplicaciones crediticias son usadas para modelar si el sujeto puede asumir un nuevo credito. "
      ]
    },
    {
      "cell_type": "markdown",
      "id": "cded6421",
      "metadata": {
        "id": "cded6421"
      },
      "source": [
        "## ¿Cómo funciona?"
      ]
    },
    {
      "cell_type": "markdown",
      "id": "ed69e964",
      "metadata": {
        "id": "ed69e964"
      },
      "source": [
        "Basados en Agresti (2013) la regresión logística es el caso más importante de los modelos lineales generalizados y igual que el resto de las familia esta compuesta por tres partes:\n",
        "\n",
        "**1- Componente sistematica** de un GLM relaciona el vector $(eta_1 , eta_2, \\dots , \\eta_N )$ a las variables explicatorias a traves de un modelo lineal. Sea $x_{ij}$ detone el valor de la variable j $(j= 0,1,2, \\dots)$ para el sujeto j. Luego,\n",
        "\n",
        "$$ \\eta_i = \\sum_j \\beta_j x_{ij}  $$\n",
        "\n",
        "**2- Predictor lineal** es la combinación linal de las variables explicatorias. Usualmente, $x_{i0}=1$ para todo i. representando el coeficiente del intercepto $\\beta_0$\n",
        "\n",
        "\n",
        "**3- Función de enlace** la cual conecta la componente sistematica con la aleatoria. Sea $\\mu_i=E(Y_i)$, $i=1,\\dots, N$. El modelo conecta $\\mu_i$ a $\\eta_i$ por $\\eta_i=g(\\mu_i)$, es decir, g conecta $\\mu_i$  a las variables explicatorias a traves de la formula.\n",
        "\n",
        "$$ g(\\mu_i)=\\sum_{j}\\beta_{j}x_{ij},  \\quad \\quad i=1,2,\\dots, N  $$\n",
        "\n",
        "\n",
        "\n",
        "En el caso de la regresión logístrica, la función ***logit*** tiene la relación lineal.\n",
        "\n",
        "$$logit(\\pi(x)) = log\\left( \\dfrac{\\pi(x)}{1-\\pi(x)} \\right)=\\sum_{j}\\beta_{j}x_{ij} $$"
      ]
    },
    {
      "cell_type": "markdown",
      "id": "e099ae0d",
      "metadata": {
        "id": "e099ae0d"
      },
      "source": [
        "## Ejemplo"
      ]
    },
    {
      "cell_type": "markdown",
      "id": "7b8561cf",
      "metadata": {
        "id": "7b8561cf"
      },
      "source": [
        "En este ejemplo, se genera un conjunto de datos artificial con tres variables explicatorias (x1, x2, x3) y una respuesta categórica (y). Luego, se divide el conjunto de datos en un conjunto de entrenamiento y un conjunto de prueba, y se entrena un modelo de regresión logística en el conjunto de entrenamiento. Finalmente, se evalúa la precisión del modelo haciendo predicciones en el conjunto de prueba."
      ]
    },
    {
      "cell_type": "code",
      "execution_count": null,
      "id": "6200db1d",
      "metadata": {
        "id": "6200db1d"
      },
      "outputs": [],
      "source": [
        "import pandas as pd\n",
        "import numpy as np\n",
        "from sklearn.linear_model import LogisticRegression\n",
        "from sklearn.model_selection import train_test_split\n",
        "from sklearn.metrics import accuracy_score"
      ]
    },
    {
      "cell_type": "code",
      "execution_count": null,
      "id": "7338f80c",
      "metadata": {
        "id": "7338f80c"
      },
      "outputs": [],
      "source": [
        "# Crear un conjunto de datos artificial\n",
        "np.random.seed(123)\n",
        "n = 100\n",
        "x1 = np.random.normal(0, 1, n)\n",
        "x2 = np.random.normal(0, 1, n)\n",
        "x3 = np.random.normal(0, 1, n)\n",
        "y = (x1 + x2 + x3 > 0).astype(int)"
      ]
    },
    {
      "cell_type": "code",
      "execution_count": null,
      "id": "1897b69f",
      "metadata": {
        "id": "1897b69f",
        "outputId": "3fc1287a-165c-4e6b-bffe-1852d5772d21"
      },
      "outputs": [
        {
          "name": "stdout",
          "output_type": "stream",
          "text": [
            "          x1        x2        x3\n",
            "12  1.491390 -0.735217 -0.274878\n",
            "98  0.379401 -0.341262  0.160544\n",
            "24 -1.253881  1.608691  0.956602\n",
            "65  0.807237 -0.898423 -0.353754\n",
            "81 -0.688869  1.459589 -1.184327\n",
            "..       ...       ...       ...\n",
            "79 -1.605963  0.139978 -0.666808\n",
            "86 -0.732462 -0.548920 -1.653698\n",
            "20  0.737369 -0.275786 -1.255669\n",
            "94 -0.335011  0.197019 -1.923716\n",
            "46  2.392365  0.456271  0.630488\n",
            "\n",
            "[80 rows x 3 columns]\n"
          ]
        }
      ],
      "source": [
        "# Crear un DataFrame con los datos\n",
        "df = pd.DataFrame({'x1': x1, 'x2': x2, 'x3': x3, 'y': y})\n",
        "\n",
        "# Dividir los datos en conjuntos de entrenamiento y prueba\n",
        "X_train, X_test, y_train, y_test = train_test_split(df[['x1', 'x2', 'x3']], df['y'], test_size=0.2)\n",
        "\n",
        "print(X_train)"
      ]
    },
    {
      "cell_type": "code",
      "execution_count": null,
      "id": "a4276ae4",
      "metadata": {
        "id": "a4276ae4",
        "outputId": "f88bfaf7-0ad9-4315-9315-01d558f77801"
      },
      "outputs": [
        {
          "data": {
            "text/plain": [
              "LogisticRegression()"
            ]
          },
          "execution_count": 56,
          "metadata": {},
          "output_type": "execute_result"
        }
      ],
      "source": [
        "# Entrenar un modelo de regresión logística\n",
        "clf = LogisticRegression()\n",
        "clf.fit(X_train, y_train)"
      ]
    },
    {
      "cell_type": "code",
      "execution_count": null,
      "id": "7111566c",
      "metadata": {
        "id": "7111566c"
      },
      "outputs": [],
      "source": [
        "# Realizar predicciones en el conjunto de prueba\n",
        "y_pred = clf.predict(X_test)"
      ]
    },
    {
      "cell_type": "code",
      "execution_count": null,
      "id": "91d36e52",
      "metadata": {
        "id": "91d36e52",
        "outputId": "5e3c684d-6563-4354-bed3-7ce95c92dbba"
      },
      "outputs": [
        {
          "name": "stdout",
          "output_type": "stream",
          "text": [
            "Accuracy: 90.00%\n"
          ]
        }
      ],
      "source": [
        "# Evaluar la precisión del modelo\n",
        "acc = accuracy_score(y_test, y_pred)\n",
        "print(\"Accuracy: {:.2f}%\".format(acc * 100))"
      ]
    },
    {
      "cell_type": "markdown",
      "id": "2fee6162",
      "metadata": {
        "id": "2fee6162"
      },
      "source": [
        "## Referencias"
      ]
    },
    {
      "cell_type": "markdown",
      "id": "1afaaa74",
      "metadata": {
        "id": "1afaaa74"
      },
      "source": [
        "[Categorical data analysis](https://mybiostats.files.wordpress.com/2015/03/3rd-ed-alan_agresti_categorical_data_analysis.pdf) ,Third Edition. Alan Agresti. 2013 John Wiley & Sons\n",
        "\n",
        "[Que es la regresión logística?](https://aws.amazon.com/es/what-is/logistic-regression/),AWS. 2023. Amazon "
      ]
    },
    {
      "cell_type": "code",
      "execution_count": null,
      "id": "782edf81",
      "metadata": {
        "id": "782edf81"
      },
      "outputs": [],
      "source": []
    }
  ],
  "metadata": {
    "kernelspec": {
      "display_name": "Python 3 (ipykernel)",
      "language": "python",
      "name": "python3"
    },
    "language_info": {
      "codemirror_mode": {
        "name": "ipython",
        "version": 3
      },
      "file_extension": ".py",
      "mimetype": "text/x-python",
      "name": "python",
      "nbconvert_exporter": "python",
      "pygments_lexer": "ipython3",
      "version": "3.9.13"
    },
    "colab": {
      "provenance": [],
      "include_colab_link": true
    }
  },
  "nbformat": 4,
  "nbformat_minor": 5
}