{
  "cells": [
    {
      "cell_type": "markdown",
      "metadata": {
        "id": "view-in-github",
        "colab_type": "text"
      },
      "source": [
        "<a href=\"https://colab.research.google.com/github/danifer126/Dimplomado_Ciencia_Datos/blob/main/Tarea_2.ipynb\" target=\"_parent\"><img src=\"https://colab.research.google.com/assets/colab-badge.svg\" alt=\"Open In Colab\"/></a>"
      ]
    },
    {
      "cell_type": "markdown",
      "id": "f5ac7c61",
      "metadata": {
        "id": "f5ac7c61"
      },
      "source": [
        "# <center> <h1> <font color='#FF9933'>  Tarea 2  funciones  </font> </h1> </center>"
      ]
    },
    {
      "cell_type": "markdown",
      "id": "470ccfca",
      "metadata": {
        "id": "470ccfca"
      },
      "source": [
        "Por Daniel Fernando Diaz Pita"
      ]
    },
    {
      "cell_type": "markdown",
      "id": "fd11a50e",
      "metadata": {
        "id": "fd11a50e"
      },
      "source": [
        "# 1. Función edad"
      ]
    },
    {
      "cell_type": "markdown",
      "id": "be887ac7",
      "metadata": {
        "id": "be887ac7"
      },
      "source": [
        "Escriba una función  que reciba la fecha de nacimiento de un a persona y calcule la edad de la persona"
      ]
    },
    {
      "cell_type": "markdown",
      "id": "dd2208a2",
      "metadata": {
        "id": "dd2208a2"
      },
      "source": [
        "Para el manejo de fechas y horas en python, se puede hacer uso del paquete _datetime_"
      ]
    },
    {
      "cell_type": "code",
      "execution_count": null,
      "id": "ba6d51a5",
      "metadata": {
        "id": "ba6d51a5"
      },
      "outputs": [],
      "source": [
        "from datetime import datetime\n"
      ]
    },
    {
      "cell_type": "markdown",
      "id": "86f41484",
      "metadata": {
        "id": "86f41484"
      },
      "source": [
        "La función solicitara al usuario el dia, mes y año de nacimiento de forma separada, para luego realizar el calculo de la edad."
      ]
    },
    {
      "cell_type": "code",
      "execution_count": null,
      "id": "5c98cf32",
      "metadata": {
        "id": "5c98cf32"
      },
      "outputs": [],
      "source": [
        "# Ingreso de fecha de nacimiento\n",
        "\n",
        "\n",
        "def edad(dia_nacimiento,mes_nacimiento,ano_nacimiento):\n",
        "    now = datetime.now()\n",
        "\n",
        "#dia_nacimiento=int(input('Ingrese el dia de nacimiento: '))\n",
        "#mes_nacimiento=int(input('Ingrese el mes de nacimiento: '))\n",
        "#ano_nacimiento=int(input('Ingrese el año de nacimiento: '))\n",
        "    dia_nacimiento=int(dia_nacimiento)\n",
        "    mes_nacimiento=int(mes_nacimiento)\n",
        "    ano_nacimiento=int(ano_nacimiento)\n",
        "\n",
        "# fecha actual\n",
        "    Año_hoy=now.year\n",
        "    mes_hoy=now.month\n",
        "    dia_hoy=now.day\n",
        "\n",
        "\n",
        "# calculo de la edad \n",
        "\n",
        "# Calcualmos los años que ha pasado desde el año de nacimiento\n",
        "    edad=Año_hoy-ano_nacimiento \n",
        "\n",
        "# se corrige por el mes de nacimientos\n",
        "    if (mes_nacimiento>mes_hoy):\n",
        "        edad=edad-1\n",
        "# se corrige por el dia de nacimiento    \n",
        "    if(mes_nacimiento==mes_hoy and dia_nacimiento>dia_hoy ):\n",
        "        edad=edad-1\n",
        "\n",
        "        \n",
        "# Se imprime el resultado        \n",
        "    print(\"Su edad es\", edad, \"años\")        "
      ]
    },
    {
      "cell_type": "markdown",
      "id": "251f979e",
      "metadata": {
        "id": "251f979e"
      },
      "source": [
        "Podemos usar la función de la siguiente manera, ingreando en orden *dia,mes,año*"
      ]
    },
    {
      "cell_type": "code",
      "execution_count": null,
      "id": "d7aa15fc",
      "metadata": {
        "id": "d7aa15fc",
        "outputId": "dc195751-4346-4056-bfa2-d12f4e0b06fd"
      },
      "outputs": [
        {
          "name": "stdout",
          "output_type": "stream",
          "text": [
            "Su edad es 26 años\n"
          ]
        }
      ],
      "source": [
        "edad(1,1,1997)"
      ]
    },
    {
      "cell_type": "markdown",
      "id": "96acb5c4",
      "metadata": {
        "id": "96acb5c4"
      },
      "source": [
        "# 2. Función escribir centrado"
      ]
    },
    {
      "cell_type": "markdown",
      "id": "7a8ab3f8",
      "metadata": {
        "id": "7a8ab3f8"
      },
      "source": [
        "Crea una función EscribirCentrado, que reciba como parámetro un texto y lo escriba centrado en pantalla (suponiendo una anchura de 80 columnas; pista: deberás escribir 80 - longitud/2 espacios antes del texto)."
      ]
    },
    {
      "cell_type": "code",
      "execution_count": 2,
      "id": "e658d9a3",
      "metadata": {
        "id": "e658d9a3"
      },
      "outputs": [],
      "source": [
        "def EscribirCentrado(texto):\n",
        "    texto_len = len(texto)\n",
        "    espacios = \" \" * ((80 - texto_len) // 2)\n",
        "    print(espacios + texto)\n"
      ]
    },
    {
      "cell_type": "code",
      "execution_count": 3,
      "id": "7a54f185",
      "metadata": {
        "colab": {
          "base_uri": "https://localhost:8080/"
        },
        "id": "7a54f185",
        "outputId": "f27928af-bb81-470b-897b-a429fd2f7268"
      },
      "outputs": [
        {
          "output_type": "stream",
          "name": "stdout",
          "text": [
            "                                  Hola Mundo!\n"
          ]
        }
      ],
      "source": [
        "EscribirCentrado(\"Hola Mundo!\")  \n",
        "  "
      ]
    },
    {
      "cell_type": "markdown",
      "id": "05984357",
      "metadata": {
        "id": "05984357"
      },
      "source": [
        "# 3. Función decorada"
      ]
    },
    {
      "cell_type": "markdown",
      "id": "e93e8a08",
      "metadata": {
        "id": "e93e8a08"
      },
      "source": [
        "Construya una función decorada que reciba un texto y lo escriba marcado con Markdown en itálica y resaltada (bold). Revise la lección de decoradores, no vista en clase."
      ]
    },
    {
      "cell_type": "code",
      "execution_count": null,
      "id": "dabea629",
      "metadata": {
        "id": "dabea629"
      },
      "outputs": [],
      "source": [
        "def decorador(funcion):\n",
        "    def NegrItalica(texto):\n",
        "        return \"_**\" + funcion(texto) + \"**_\"\n",
        "    return NegrItalica\n",
        "\n",
        "@decorador\n",
        "def escribir_texto(texto):\n",
        "    return texto"
      ]
    },
    {
      "cell_type": "code",
      "execution_count": null,
      "id": "a9dd0634",
      "metadata": {
        "id": "a9dd0634",
        "outputId": "3e89bfd5-5714-415e-f3f5-f0dd985c4a75"
      },
      "outputs": [
        {
          "name": "stdout",
          "output_type": "stream",
          "text": [
            "_**Hola, mundo!**_\n"
          ]
        }
      ],
      "source": [
        "texto = \"Hola, mundo!\"\n",
        "print(escribir_texto(texto))"
      ]
    },
    {
      "cell_type": "markdown",
      "id": "05799359",
      "metadata": {
        "id": "05799359"
      },
      "source": [
        "# 4. Números multiplos"
      ]
    },
    {
      "cell_type": "markdown",
      "id": "65223edf",
      "metadata": {
        "id": "65223edf"
      },
      "source": [
        "Crea un programa que pida dos número enteros al usuario y diga si alguno de ellos es múltiplo del otro. "
      ]
    },
    {
      "cell_type": "code",
      "execution_count": null,
      "id": "4f6717cc",
      "metadata": {
        "id": "4f6717cc"
      },
      "outputs": [],
      "source": [
        "\n",
        "def Dos_numeros():\n",
        "    num_1=int(input('Inserte el primer número: '))\n",
        "    num_2=int(input('Inserte el segundo número: '))\n",
        "\n",
        "    if (num_1 % num_2) == 0 :\n",
        "        print(num_1,\"es multiplo de\",num_2)\n",
        "\n",
        "    if (num_2 % num_1) == 0 :\n",
        "        print(num_2 , \"es multiplo de\" , num_1)       \n",
        "\n",
        "    elif (((num_2 % num_1)!= 0) or ((num_1 % num_2) != 0)):\n",
        "        print(\"No son multiplos entre ellos\")\n",
        "    \n",
        "    \n",
        "    "
      ]
    },
    {
      "cell_type": "markdown",
      "id": "24c461af",
      "metadata": {
        "id": "24c461af"
      },
      "source": [
        "Podemos usar la función de la sigueinte forma."
      ]
    },
    {
      "cell_type": "code",
      "execution_count": null,
      "id": "be5460a4",
      "metadata": {
        "id": "be5460a4",
        "outputId": "a9912ef4-4087-4a64-efa8-0c02245f0796"
      },
      "outputs": [
        {
          "name": "stdout",
          "output_type": "stream",
          "text": [
            "Inserte el primer número: 12\n",
            "Inserte el segundo número: 34\n",
            "No son multiplos entre ellos\n"
          ]
        }
      ],
      "source": [
        "Dos_numeros()"
      ]
    },
    {
      "cell_type": "markdown",
      "id": "505f1faa",
      "metadata": {
        "id": "505f1faa"
      },
      "source": [
        "# 5. Promedio de temperatura"
      ]
    },
    {
      "cell_type": "markdown",
      "id": "eb52e852",
      "metadata": {
        "id": "eb52e852"
      },
      "source": [
        "Crear una función re reciba una lista  de 24 valores de temperatura leída  hora en un día y que calcule la temperatura media  Cree una lista con 24 valores de temperatura de un día de Bogotá y pruebe su función. Invente los datos."
      ]
    },
    {
      "cell_type": "code",
      "execution_count": null,
      "id": "59670982",
      "metadata": {
        "id": "59670982"
      },
      "outputs": [],
      "source": [
        "#Importamos el paquete numpy para el uso de estadísticas basicas\n",
        "\n",
        "import numpy as np\n",
        "\n",
        "# Definimos la función promedio, la cual recibe una lista de números y retorna la media\n",
        "\n",
        "def Promedio(Valores):\n",
        "    Promedio=np.mean(Valores)\n",
        "    print('El promedio de temperatura es: ', np.round(Promedio,2)  )"
      ]
    },
    {
      "cell_type": "markdown",
      "id": "0f87e51b",
      "metadata": {
        "id": "0f87e51b"
      },
      "source": [
        "Probamos la función para los siguientes datos."
      ]
    },
    {
      "cell_type": "code",
      "execution_count": null,
      "id": "723f3462",
      "metadata": {
        "id": "723f3462"
      },
      "outputs": [],
      "source": [
        "Temp=(10,9,8.6,8,7.9,7.5,8,10,12,14,16,18,18.3,18.2,17,16,16,15.5,14,13.5,12,11.5,11,10.5)"
      ]
    },
    {
      "cell_type": "code",
      "execution_count": null,
      "id": "2774c159",
      "metadata": {
        "id": "2774c159",
        "outputId": "7a0a9323-ae4f-43c9-9f25-102d22140b02"
      },
      "outputs": [
        {
          "name": "stdout",
          "output_type": "stream",
          "text": [
            "El promedio de temperatura es:  12.6\n"
          ]
        }
      ],
      "source": [
        "Promedio(Temp)"
      ]
    },
    {
      "cell_type": "markdown",
      "id": "42478da7",
      "metadata": {
        "id": "42478da7"
      },
      "source": [
        "# 6. función Convertir Espaciado"
      ]
    },
    {
      "cell_type": "markdown",
      "id": "7c657680",
      "metadata": {
        "id": "7c657680"
      },
      "source": [
        "Crea un función “ConvertirEspaciado”, que reciba como parámetro un texto y devuelve una cadena con un espacio adicional tras cada letra. Por ejemplo, “Hola, tú” devolverá “H o l a , t ú “.  Pruebe "
      ]
    },
    {
      "cell_type": "markdown",
      "id": "689f683b",
      "metadata": {
        "id": "689f683b"
      },
      "source": [
        "Haciendo uso de la sentencia _.joint_ interamos entre cada elemento de la cadena con un espacio de la siguiente forma:"
      ]
    },
    {
      "cell_type": "code",
      "execution_count": null,
      "id": "7df63c92",
      "metadata": {
        "id": "7df63c92"
      },
      "outputs": [],
      "source": [
        "def ConvertirEspaciado(texto):\n",
        "     print(\" \".join(texto))"
      ]
    },
    {
      "cell_type": "markdown",
      "id": "7431463c",
      "metadata": {
        "id": "7431463c"
      },
      "source": [
        "De tal manera que esta es la salida:"
      ]
    },
    {
      "cell_type": "code",
      "execution_count": null,
      "id": "f763cd63",
      "metadata": {
        "id": "f763cd63",
        "outputId": "d64a901f-b65d-444d-9d47-1a96c6881cb1"
      },
      "outputs": [
        {
          "name": "stdout",
          "output_type": "stream",
          "text": [
            "H o l a ,   m u n d o !\n"
          ]
        }
      ],
      "source": [
        "ConvertirEspaciado(texto)"
      ]
    },
    {
      "cell_type": "markdown",
      "id": "27646b80",
      "metadata": {
        "id": "27646b80"
      },
      "source": [
        "# 7. Función calcularMaxMin"
      ]
    },
    {
      "cell_type": "markdown",
      "id": "b51b85e4",
      "metadata": {
        "id": "b51b85e4"
      },
      "source": [
        " Crea una función “calcularMaxMin” que recibe una arreglo con valores numérico y devuelve el valor máximo y el mínimo. "
      ]
    },
    {
      "cell_type": "code",
      "execution_count": null,
      "id": "d7fb5441",
      "metadata": {
        "id": "d7fb5441"
      },
      "outputs": [],
      "source": [
        "def calcularMaxMin(Lista):\n",
        "    maximo=np.amax(Lista)\n",
        "    minimo=np.amin(Lista)\n",
        "    print(\"El valor mínimo es: \",np.round(minimo,2), \"  y el valor máximo es: \",np.round(maximo,2))\n",
        "    "
      ]
    },
    {
      "cell_type": "markdown",
      "id": "7200a769",
      "metadata": {
        "id": "7200a769"
      },
      "source": [
        "Creamos una lista de 100 observatorias aleatorias para probar la función"
      ]
    },
    {
      "cell_type": "code",
      "execution_count": null,
      "id": "b8255bcc",
      "metadata": {
        "id": "b8255bcc"
      },
      "outputs": [],
      "source": [
        "Lista=np.random.standard_normal(100)"
      ]
    },
    {
      "cell_type": "code",
      "execution_count": null,
      "id": "0e111f81",
      "metadata": {
        "id": "0e111f81",
        "outputId": "ec3c7751-fc65-41dc-dab9-9ea748dfd3fa"
      },
      "outputs": [
        {
          "name": "stdout",
          "output_type": "stream",
          "text": [
            "El valor mínimo es:  -2.4   y el valor máximo es:  2.27\n"
          ]
        }
      ],
      "source": [
        "calcularMaxMin(Lista)"
      ]
    },
    {
      "cell_type": "markdown",
      "id": "2b9dceaf",
      "metadata": {
        "id": "2b9dceaf"
      },
      "source": [
        "# 8. Función para ciruncencias"
      ]
    },
    {
      "cell_type": "markdown",
      "id": "9a6105cb",
      "metadata": {
        "id": "9a6105cb"
      },
      "source": [
        "Diseñar una función que calcule el área y el perímetro de una circunferencia. "
      ]
    },
    {
      "cell_type": "code",
      "execution_count": null,
      "id": "39c569f3",
      "metadata": {
        "id": "39c569f3"
      },
      "outputs": [],
      "source": [
        "def  AreaPerimetro(radio):\n",
        "    # área es pi * el radio al cuadrado\n",
        "    area=np.pi*(radio**2)\n",
        "    # Perimetro es 2 veces el radio * pi\n",
        "    perimetro=2*np.pi*radio\n",
        "    \n",
        "    print(\"El área de la circunferencia es \",np.round(area,2),\" y su perimetro es \",np.round(perimetro,2))"
      ]
    },
    {
      "cell_type": "markdown",
      "id": "5ccc5c71",
      "metadata": {
        "id": "5ccc5c71"
      },
      "source": [
        "Podemos probar la función de la siguiente forma:"
      ]
    },
    {
      "cell_type": "code",
      "execution_count": null,
      "id": "a76e6b59",
      "metadata": {
        "id": "a76e6b59",
        "outputId": "156a2834-a393-466e-f435-fee45b8b9151"
      },
      "outputs": [
        {
          "name": "stdout",
          "output_type": "stream",
          "text": [
            "El área de la circunferencia es  314.16  y su perimetro es  62.83\n"
          ]
        }
      ],
      "source": [
        "AreaPerimetro(10)"
      ]
    },
    {
      "cell_type": "markdown",
      "id": "035c24da",
      "metadata": {
        "id": "035c24da"
      },
      "source": [
        "# 9. Función de login"
      ]
    },
    {
      "cell_type": "markdown",
      "id": "ee104fa4",
      "metadata": {
        "id": "ee104fa4"
      },
      "source": [
        "Crear una función  llamada “Login”, que recibe un nombre de usuario y una contraseña y devuelva Verdadero si el nombre de usuario es “usuario1” y la contraseña es “asdasd”. Además recibe el número de intentos que se ha intentado hacer login y si no se ha podido hacer login incremente este valor.\n"
      ]
    },
    {
      "cell_type": "code",
      "execution_count": null,
      "id": "24354de8",
      "metadata": {
        "id": "24354de8"
      },
      "outputs": [],
      "source": [
        "def login():\n",
        "    n=0\n",
        "    while True:\n",
        "        usuario=str(input(\"Inserte el nombre de usuario: \"))\n",
        "        contrasena=str(input(\"Inserte contraseña: \"))\n",
        "        \n",
        "        if (usuario==\"usuario1\" and contrasena==\"asdasd\"):\n",
        "                    print(\"Verdadero\")\n",
        "                    break\n",
        "        else:\n",
        "                    n+=1\n",
        "                    print(\"Sigue intentando\")\n",
        "    print(\"Número de intentos fallidos fue: \",n)                \n",
        "                    "
      ]
    },
    {
      "cell_type": "markdown",
      "id": "f8e21e1e",
      "metadata": {
        "id": "f8e21e1e"
      },
      "source": [
        "Utilizamos la función de la siguiente forma:"
      ]
    },
    {
      "cell_type": "code",
      "execution_count": null,
      "id": "f53a4f66",
      "metadata": {
        "id": "f53a4f66",
        "outputId": "8511c11e-196c-4642-805b-c5fa384f213b"
      },
      "outputs": [
        {
          "name": "stdout",
          "output_type": "stream",
          "text": [
            "Inserte el nombre de usuario: asd\n",
            "Inserte contraseña: a\n",
            "Sigue intentando\n",
            "Inserte el nombre de usuario: asd\n",
            "Inserte contraseña: aa\n",
            "Sigue intentando\n",
            "Inserte el nombre de usuario: usuario1\n",
            "Inserte contraseña: asdasd\n",
            "Verdadero\n",
            "Número de intentos fue:  2\n"
          ]
        }
      ],
      "source": [
        "login()"
      ]
    },
    {
      "cell_type": "markdown",
      "id": "500e52fc",
      "metadata": {
        "id": "500e52fc"
      },
      "source": [
        "# 10. Función factorial"
      ]
    },
    {
      "cell_type": "markdown",
      "id": "71991ed1",
      "metadata": {
        "id": "71991ed1"
      },
      "source": [
        " Crear una función recursiva que permita calcular el factorial de un número. Realiza un programa principal donde se lea un entero y se muestre el resultado del factorial. Revise la lección de funciones."
      ]
    },
    {
      "cell_type": "markdown",
      "id": "9774b92a",
      "metadata": {
        "id": "9774b92a"
      },
      "source": [
        "Se elabora la función considerando que solo se puede calcular para enteros positivos y notifique del error en caso de ser necesario."
      ]
    },
    {
      "cell_type": "code",
      "execution_count": null,
      "id": "084729fa",
      "metadata": {
        "id": "084729fa"
      },
      "outputs": [],
      "source": [
        "def factorial():\n",
        "    f=1\n",
        "    while True:\n",
        "        try:\n",
        "            n=int(input(\"Inserte número entero positivo: \"))\n",
        "        except:\n",
        "            print(\"No ingreso un número valido \\n\")\n",
        "            \n",
        "        if n<0:\n",
        "            print(\"No ingreso un número valido \\n\")    \n",
        "        \n",
        "        elif n>0:\n",
        "            while n>0:\n",
        "                f=f*n\n",
        "                n=n-1\n",
        "            break\n",
        "        \n",
        "    \n",
        "    print(\"Su factorial es: \", f)    \n",
        "        \n",
        "        "
      ]
    },
    {
      "cell_type": "markdown",
      "id": "3e55347c",
      "metadata": {
        "id": "3e55347c"
      },
      "source": [
        "De tal manera que la función presenta las siguientes salidas:"
      ]
    },
    {
      "cell_type": "code",
      "execution_count": null,
      "id": "b70e2409",
      "metadata": {
        "id": "b70e2409",
        "outputId": "551047fa-41fb-4374-cd62-f2ed535c04d5"
      },
      "outputs": [
        {
          "name": "stdout",
          "output_type": "stream",
          "text": [
            "Inserte número entero positivo: -1\n",
            "No ingreso un número valido \n",
            "\n",
            "Inserte número entero positivo: asd\n",
            "No ingreso un número valido \n",
            "\n",
            "No ingreso un número valido \n",
            "\n",
            "Inserte número entero positivo: 10\n",
            "Su factorial es:  3628800\n"
          ]
        }
      ],
      "source": [
        "factorial()"
      ]
    },
    {
      "cell_type": "markdown",
      "id": "1ea2aee0",
      "metadata": {
        "id": "1ea2aee0"
      },
      "source": [
        "# 11. funciones de hora y segundos"
      ]
    },
    {
      "cell_type": "markdown",
      "id": "b3fa6e4a",
      "metadata": {
        "id": "b3fa6e4a"
      },
      "source": [
        "Escribir dos funciones que permitan calcular:\n",
        "\n",
        "- La cantidad de segundos en un tiempo dado en horas, minutos y segundos.\n",
        "- La cantidad de horas, minutos y segundos de un tiempo dado en segundos"
      ]
    },
    {
      "cell_type": "code",
      "execution_count": null,
      "id": "6d8fb133",
      "metadata": {
        "id": "6d8fb133"
      },
      "outputs": [],
      "source": [
        "#Función número 1\n",
        "\n",
        "def HMSaS(HH,MM,SS):  # Ingresan horas, minutos y segundos\n",
        "    s1=HH*3600\n",
        "    s2=MM*60\n",
        "    Tsegundos=s1+s2+SS\n",
        "    print(\"Total de segundos \",Tsegundos)\n",
        "\n",
        "    \n",
        "#Función número 2    \n",
        "def SaHMS(SS):\n",
        "    HH=SS//3600     # Multiplos de minutos * horas\n",
        "    s2=SS-(3600*HH)\n",
        "    \n",
        "    MM=s2//60          # multiplos de minutos\n",
        "    s3=s2-(60*MM)    \n",
        "    print(HH,\"Horas, \",MM,\"Minutos  y \",s3, \" segundos\")"
      ]
    },
    {
      "cell_type": "code",
      "execution_count": null,
      "id": "4ac4406b",
      "metadata": {
        "id": "4ac4406b"
      },
      "outputs": [],
      "source": [
        "Utilizando las funciones se obtiene lo siguiente:"
      ]
    },
    {
      "cell_type": "code",
      "execution_count": null,
      "id": "e50d3550",
      "metadata": {
        "id": "e50d3550",
        "outputId": "4b744c3f-83d3-49c6-f06c-13ba369b985a"
      },
      "outputs": [
        {
          "name": "stdout",
          "output_type": "stream",
          "text": [
            "Total de segundos  36330\n"
          ]
        }
      ],
      "source": [
        "#Función 1\n",
        "\n",
        "HMSaS(10,5,30) # 10 horas, 5 minutos y 30 segundos"
      ]
    },
    {
      "cell_type": "code",
      "execution_count": null,
      "id": "9af450dd",
      "metadata": {
        "id": "9af450dd",
        "outputId": "b0d80a68-0178-421b-e46d-bdbbc207f8a8"
      },
      "outputs": [
        {
          "name": "stdout",
          "output_type": "stream",
          "text": [
            "2 Horas,  46 Minutos  y  40  segundos\n"
          ]
        }
      ],
      "source": [
        "# Función 2\n",
        "\n",
        "SaHMS(10000)  # 10000 segundos "
      ]
    },
    {
      "cell_type": "markdown",
      "id": "a71ff362",
      "metadata": {
        "id": "a71ff362"
      },
      "source": [
        "# 12. Función tupla"
      ]
    },
    {
      "cell_type": "markdown",
      "id": "52e7f4b4",
      "metadata": {
        "id": "52e7f4b4"
      },
      "source": [
        "Crea una función  que lea una tupla, invierta los valores de la tupla y regrese una nueva tupla invirtiendo los valores. Recuerde que las tuplas son inmutables."
      ]
    },
    {
      "cell_type": "code",
      "execution_count": null,
      "id": "3fd8417e",
      "metadata": {
        "id": "3fd8417e"
      },
      "outputs": [],
      "source": [
        "def invTupla(tupla):\n",
        "    nueva_tupla=tupla[::-1]   # propiedad de slicing\n",
        "    return nueva_tupla"
      ]
    },
    {
      "cell_type": "code",
      "execution_count": null,
      "id": "5291aae3",
      "metadata": {
        "id": "5291aae3"
      },
      "outputs": [],
      "source": [
        "Se propone la siguiente tupla:"
      ]
    },
    {
      "cell_type": "code",
      "execution_count": null,
      "id": "db7ad78e",
      "metadata": {
        "id": "db7ad78e"
      },
      "outputs": [],
      "source": [
        "tupla=(1,2,6,7,15)"
      ]
    },
    {
      "cell_type": "code",
      "execution_count": null,
      "id": "edd27f19",
      "metadata": {
        "id": "edd27f19"
      },
      "outputs": [],
      "source": [
        "De tal manera, que se obtiene lo siguiente:"
      ]
    },
    {
      "cell_type": "code",
      "execution_count": null,
      "id": "69d244a0",
      "metadata": {
        "id": "69d244a0",
        "outputId": "59a747ff-88de-4650-980e-4ef32425e51c"
      },
      "outputs": [
        {
          "name": "stdout",
          "output_type": "stream",
          "text": [
            "(1, 2, 6, 7, 15)\n",
            "(15, 7, 6, 2, 1)\n"
          ]
        }
      ],
      "source": [
        "print(tupla)\n",
        "print(invTupla(tupla))"
      ]
    },
    {
      "cell_type": "markdown",
      "id": "7ee52eda",
      "metadata": {
        "id": "7ee52eda"
      },
      "source": [
        "# 13. función media geometrica - listas"
      ]
    },
    {
      "cell_type": "markdown",
      "id": "f35ff92b",
      "metadata": {
        "id": "f35ff92b"
      },
      "source": [
        "Escriba una función que lea una lista y calcule la media geométrica de sus valores, usando funtools.reduce."
      ]
    },
    {
      "cell_type": "code",
      "execution_count": null,
      "id": "3a95b2da",
      "metadata": {
        "id": "3a95b2da"
      },
      "outputs": [],
      "source": [
        "import functools as ft\n",
        "\n",
        "def media_geom(lista):    \n",
        "    n=len(lista)\n",
        "    prod=ft.reduce(lambda x ,y:x*y,lista)   # Utilizando functools y la expresión para produto\n",
        "    Media_geom=prod**(1/n)           # La raiz n-ésima (n el número de datos)  \n",
        "    print(\"La media geometrica de las observaciones es: \", np.round(Media_geom,2))\n"
      ]
    },
    {
      "cell_type": "markdown",
      "id": "473e6c0a",
      "metadata": {
        "id": "473e6c0a"
      },
      "source": [
        "Se propone la siguiente lista"
      ]
    },
    {
      "cell_type": "code",
      "execution_count": null,
      "id": "5d3ba645",
      "metadata": {
        "id": "5d3ba645"
      },
      "outputs": [],
      "source": [
        "lista =[1,2,3,4,5]"
      ]
    },
    {
      "cell_type": "markdown",
      "id": "9bb19ea0",
      "metadata": {
        "id": "9bb19ea0"
      },
      "source": [
        "De tal manera que la media geometrica de los elementos de la lista es:"
      ]
    },
    {
      "cell_type": "code",
      "execution_count": null,
      "id": "3c2165cd",
      "metadata": {
        "id": "3c2165cd",
        "outputId": "c48dd172-98dc-425f-f3a3-57698d80703f"
      },
      "outputs": [
        {
          "name": "stdout",
          "output_type": "stream",
          "text": [
            "La media geometrica de las observaciones es:  2.61\n"
          ]
        }
      ],
      "source": [
        "media_geom(lista)"
      ]
    },
    {
      "cell_type": "code",
      "execution_count": null,
      "id": "976d25e1",
      "metadata": {
        "id": "976d25e1"
      },
      "outputs": [],
      "source": []
    }
  ],
  "metadata": {
    "kernelspec": {
      "display_name": "Python 3 (ipykernel)",
      "language": "python",
      "name": "python3"
    },
    "language_info": {
      "codemirror_mode": {
        "name": "ipython",
        "version": 3
      },
      "file_extension": ".py",
      "mimetype": "text/x-python",
      "name": "python",
      "nbconvert_exporter": "python",
      "pygments_lexer": "ipython3",
      "version": "3.9.13"
    },
    "colab": {
      "provenance": [],
      "include_colab_link": true
    }
  },
  "nbformat": 4,
  "nbformat_minor": 5
}