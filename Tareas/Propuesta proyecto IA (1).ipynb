{
 "cells": [
  {
   "cell_type": "markdown",
   "id": "e8ecbf85",
   "metadata": {},
   "source": [
    "# <center><font color='#EC1313'>    Propuesta de proyecto para la materia de inteligencia artificial. </font></center>"
   ]
  },
  {
   "cell_type": "markdown",
   "id": "30227b58",
   "metadata": {},
   "source": [
    "Programa: _Estadística 2514_\n",
    "\n",
    "**Integrantes:**\n",
    "\n",
    "Katherine Molina; Daniel Fernando Diaz"
   ]
  },
  {
   "cell_type": "markdown",
   "id": "4a857926",
   "metadata": {},
   "source": [
    "## **Título**"
   ]
  },
  {
   "cell_type": "markdown",
   "id": "be14ff92",
   "metadata": {},
   "source": [
    "Sistema de clasificación y recomendación de actividades y apoyos para los estudiantes de la ETITC según el nivel de riesgo identificado de deserción basado en inteligencia artificial"
   ]
  },
  {
   "cell_type": "markdown",
   "id": "f33d2c7c",
   "metadata": {},
   "source": [
    "## **Objetivos**\n",
    "\n",
    "**Objetivo general**\n",
    "\n",
    "Implementar un sistema basado en inteligencia artificial que genere recomendaciones personalizadas para los estudiantes y sugiera actividades que se adapten a sus necesidades.\n",
    "\n",
    "**Objetivos específicos**\n",
    "-\tIdentificar patrones y tendencias en el rendimiento y características de los estudiantes que permitan conocer los apoyos que requieren y que se les sugieren tomar con el fin de mejorar la permanencia.\n",
    "-\tIntegrar información de la caracterización de los estudiantes al sistema de recomendación de servicios de bienestar universitario basado en inteligencia artificial.\n",
    "\n",
    "## Problema\n",
    "\n",
    "La ETITC es una escuela tecnológica publica que forma profesionales en los ciclo técnico, tecnológico y profesional. En el área de Bienestar Universitario la institución fomenta la formación integral de los estudiantes y tiene como objetivo la promoción de la permanencia en la educación superior, por lo cual durante los últimos años ha establecido un sistema de permanencia, el cual caracteriza los estudiantes y clasifica el nivel de riesgo de deserción a través de una encuesta de caracterización estudiantil y permite el seguimiento de las actividades y los apoyos en los que participan los estudiantes.\n",
    "\n",
    "Sin embargo, requieren conocer si las actividades y apoyos que realizan facilitan la continuidad de la formación de los estudiantes y cuales favorecen a la permanencia según las necesidades de los estudiantes.\n",
    "\n",
    "\n",
    "\n",
    "\n",
    "## **Datos disponibles**\n",
    "-\tEstudiantes matriculados de los últimos 3 periodos académicos\n",
    "-\tApoyos recibidos por los estudiantes por parte de Bienestar Universitario durante los últimos tres periodos\n",
    "-\tLas caracterizaciones estudiantiles de cerca del 85% de los estudiantes activos en el último periodo 2022-2.\n",
    "-\tClasificación de riesgo de deserción según la parametrización del sistema de permanencia de la institución.\n",
    "-\tEl registro de notas de los últimos periodos. (2022-1, pendiente 2022-2 y 2023-1)\n",
    "\n",
    "## Ideas para la implementación\n",
    "\n",
    "Utilizando aprendizaje automático se busca generar un sistema de clasificación a través de un modelo predictivo el cual permita sugerir apoyos y actividades a los estudiantes según la caracterización, como entregable final se propone elaborar una aplicación para que los estudiantes consulten que actividades son sujeridas para ellos luego de realizar la caracterización.\n"
   ]
  },
  {
   "cell_type": "code",
   "execution_count": null,
   "id": "9ee699a7",
   "metadata": {},
   "outputs": [],
   "source": []
  }
 ],
 "metadata": {
  "kernelspec": {
   "display_name": "Python 3 (ipykernel)",
   "language": "python",
   "name": "python3"
  },
  "language_info": {
   "codemirror_mode": {
    "name": "ipython",
    "version": 3
   },
   "file_extension": ".py",
   "mimetype": "text/x-python",
   "name": "python",
   "nbconvert_exporter": "python",
   "pygments_lexer": "ipython3",
   "version": "3.9.13"
  }
 },
 "nbformat": 4,
 "nbformat_minor": 5
}
